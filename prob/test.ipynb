{
 "cells": [
  {
   "cell_type": "code",
   "execution_count": 29,
   "metadata": {},
   "outputs": [],
   "source": [
    "import numpy as np\n",
    "import matplotlib.pyplot as plt\n",
    "import math"
   ]
  },
  {
   "cell_type": "code",
   "execution_count": 24,
   "metadata": {},
   "outputs": [],
   "source": [
    "#1 \n",
    "\n",
    "def nPass():\n",
    "    return 62**8\n",
    "\n",
    "def nAni():\n",
    "    return nPass()/(1e6*365*24*60*60)\n",
    "\n",
    "def probWk():\n",
    "    return 1e6*60*60*24*7/nPass()\n",
    "\n"
   ]
  },
  {
   "cell_type": "code",
   "execution_count": 56,
   "metadata": {},
   "outputs": [],
   "source": [
    "#2 \n",
    "\n",
    "def probDis():\n",
    "    return (math.factorial(62)/math.factorial(53))/nPass()\n",
    "\n",
    "#3 \n",
    "\n",
    "def virus():\n",
    "    return math.factorial(10)/(math.factorial(7)*math.factorial(3))\n",
    "\n",
    "#4 \n",
    "\n",
    "def prob():\n",
    "    return math.comb(13,3)*math.comb(7,3)/math.comb(20,6)\n",
    "\n",
    "def probNb():\n",
    "    laptops = np.zeros(20)\n",
    "    for i in range(7):\n",
    "        laptops[i]=1\n",
    "    cnt = 0\n",
    "    trials = 0.\n",
    "    for i in range(1000000):\n",
    "        trials+=1\n",
    "        np.random.shuffle(laptops) \n",
    "        for i in range (6):\n",
    "            cnt += laptops[i]\n",
    "    return cnt/trials\n",
    "\n",
    "#5 \n",
    "\n",
    "def aceProb():\n",
    "    return math.comb(4,3)*math.comb(48, 2)/math.comb(52,5)\n",
    "\n",
    "def aceNb():\n",
    "    probMax = -1\n",
    "    rez = -1\n",
    "    for i in range (5):\n",
    "        prob = math.comb(4,i)*math.comb(48, 5-i)/math.comb(52,5)\n",
    "        if prob > probMax:\n",
    "            probMax = prob\n",
    "            rez = i\n",
    "    return probMax, rez\n"
   ]
  },
  {
   "cell_type": "code",
   "execution_count": 61,
   "metadata": {},
   "outputs": [
    {
     "name": "stdout",
     "output_type": "stream",
     "text": [
      "0.5177469135802468 0.4914038761309034\n"
     ]
    }
   ],
   "source": [
    "#7\n",
    "\n",
    "p1 = 1 - (5/6)**4\n",
    "p2 = 1 - (35/36)**24\n",
    "print(p1, p2)"
   ]
  }
 ],
 "metadata": {
  "kernelspec": {
   "display_name": ".venv",
   "language": "python",
   "name": "python3"
  },
  "language_info": {
   "codemirror_mode": {
    "name": "ipython",
    "version": 3
   },
   "file_extension": ".py",
   "mimetype": "text/x-python",
   "name": "python",
   "nbconvert_exporter": "python",
   "pygments_lexer": "ipython3",
   "version": "3.12.6"
  }
 },
 "nbformat": 4,
 "nbformat_minor": 2
}
