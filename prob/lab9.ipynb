{
 "cells": [
  {
   "cell_type": "code",
   "execution_count": 22,
   "metadata": {},
   "outputs": [],
   "source": [
    "import random\n",
    "import numpy as np\n",
    "import matplotlib.pyplot as plt\n",
    "import math\n"
   ]
  },
  {
   "cell_type": "code",
   "execution_count": 18,
   "metadata": {},
   "outputs": [],
   "source": [
    "def genApts(n=20): \n",
    "    return [random.randint(100, 1000) for _ in range(n)]\n",
    "    "
   ]
  },
  {
   "cell_type": "code",
   "execution_count": 21,
   "metadata": {},
   "outputs": [
    {
     "name": "stdout",
     "output_type": "stream",
     "text": [
      "728 495 532 278 823 757 838 609 304 821 347 134 191 273 259 152 515 473 882 267\n"
     ]
    }
   ],
   "source": [
    "print(*genApts())"
   ]
  },
  {
   "cell_type": "code",
   "execution_count": null,
   "metadata": {},
   "outputs": [
    {
     "name": "stdout",
     "output_type": "stream",
     "text": [
      "74 0.392\n",
      "74\n"
     ]
    }
   ],
   "source": [
    "\n",
    "def best(n, k):\n",
    "    apts = genApts(n)\n",
    "    best_abs = 20000\n",
    "\n",
    "    for apt in apts:\n",
    "        if apt < best_abs:\n",
    "           best_abs = apt\n",
    "    rej = k\n",
    "    best_rej = min(apts[:rej])\n",
    "\n",
    "    for apt in apts[rej:]:\n",
    "        if apt < best_rej:\n",
    "            return apt, best_abs\n",
    "        \n",
    "    \n",
    "    return apts[-1], best_abs\n",
    "\n",
    "n = 200\n",
    "best_k = -1\n",
    "best_ratio = -1\n",
    "for k in range (1, n+1):\n",
    "    correct = 0\n",
    "    for _ in range (1000):\n",
    "        exp_best, abs_best = best(n, k)\n",
    "        if exp_best == abs_best:\n",
    "            correct += 1\n",
    "    ratio = correct/1000\n",
    "    if ratio > best_ratio:\n",
    "        best_ratio = ratio\n",
    "        best_k = k\n",
    "print(best_k, best_ratio)\n",
    "print(math.ceil(n/math.e))            "
   ]
  }
 ],
 "metadata": {
  "kernelspec": {
   "display_name": ".venv",
   "language": "python",
   "name": "python3"
  },
  "language_info": {
   "codemirror_mode": {
    "name": "ipython",
    "version": 3
   },
   "file_extension": ".py",
   "mimetype": "text/x-python",
   "name": "python",
   "nbconvert_exporter": "python",
   "pygments_lexer": "ipython3",
   "version": "3.12.7"
  }
 },
 "nbformat": 4,
 "nbformat_minor": 2
}
