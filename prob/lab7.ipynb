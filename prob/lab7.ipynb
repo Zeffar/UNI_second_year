{
 "cells": [
  {
   "cell_type": "code",
   "execution_count": 79,
   "metadata": {},
   "outputs": [],
   "source": [
    "import numpy as np\n",
    "import warnings\n",
    "warnings.filterwarnings('ignore')"
   ]
  },
  {
   "cell_type": "code",
   "execution_count": 48,
   "metadata": {},
   "outputs": [],
   "source": [
    "def BEV(x, p, alpha = 0, w=100000):\n",
    "    return np.prod(np.pow(x + (1-alpha)*w, p))\n"
   ]
  },
  {
   "cell_type": "code",
   "execution_count": 39,
   "metadata": {},
   "outputs": [
    {
     "name": "stdout",
     "output_type": "stream",
     "text": [
      "61.24993804677524\n"
     ]
    }
   ],
   "source": [
    "x = np.array([1, 2, 6, 22, 200, 1000000])\n",
    "p = np.full_like(x, 1/x.size, np.float64)\n",
    "print(BEV(x, p))"
   ]
  },
  {
   "cell_type": "code",
   "execution_count": 98,
   "metadata": {},
   "outputs": [
    {
     "name": "stdout",
     "output_type": "stream",
     "text": [
      "0.4375 100281.7694308255\n"
     ]
    }
   ],
   "source": [
    "def bin(N, target=100000):\n",
    "    left, right = 0, N-1\n",
    "    precision = 10\n",
    "    mid=-1\n",
    "    while left <= right:\n",
    "        mid = left + (right - left) / 2\n",
    "        if BEV(x, p, mid) > target:\n",
    "            left = mid\n",
    "        else:\n",
    "            right = mid - 1\n",
    "    return mid\n",
    "\n",
    "\n",
    "print(bin(4), BEV(x, p, 0.375))"
   ]
  }
 ],
 "metadata": {
  "kernelspec": {
   "display_name": ".venv",
   "language": "python",
   "name": "python3"
  },
  "language_info": {
   "codemirror_mode": {
    "name": "ipython",
    "version": 3
   },
   "file_extension": ".py",
   "mimetype": "text/x-python",
   "name": "python",
   "nbconvert_exporter": "python",
   "pygments_lexer": "ipython3",
   "version": "3.12.7"
  }
 },
 "nbformat": 4,
 "nbformat_minor": 2
}
